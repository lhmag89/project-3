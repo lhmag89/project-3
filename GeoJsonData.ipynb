{
 "cells": [
  {
   "cell_type": "code",
   "execution_count": null,
   "id": "ee4abdbe-c3d8-448d-829b-c0295b5f2488",
   "metadata": {},
   "outputs": [],
   "source": [
    "# data was collected from 2020"
   ]
  },
  {
   "cell_type": "code",
   "execution_count": 38,
   "id": "30d5612a-e3e0-4cf5-8ed3-b07501a8e925",
   "metadata": {},
   "outputs": [],
   "source": [
    "import pandas as pd\n",
    "import sqlite3\n",
    "import sqlalchemy as sql\n",
    "import json\n",
    "import numpy as np"
   ]
  },
  {
   "cell_type": "code",
   "execution_count": 39,
   "id": "9fa905dc-d151-4d96-ab3e-0668b41eb839",
   "metadata": {},
   "outputs": [],
   "source": [
    "with open('WaterShortageSocialVulnerabilityData.geojson') as data_source:\n",
    "    social_vul_data=json.load(data_source)"
   ]
  },
  {
   "cell_type": "code",
   "execution_count": 40,
   "id": "41341974-321d-48cd-9281-7f9bcdd8ceb8",
   "metadata": {},
   "outputs": [],
   "source": [
    "social_vulnerability_cords=[]\n",
    "for cords in social_vul_data['features']: \n",
    "    social_vulnerability_cords.append(cords['geometry']['coordinates'])"
   ]
  },
  {
   "cell_type": "code",
   "execution_count": 41,
   "id": "735e4a80-6c22-4aa0-94d4-83189516fe9d",
   "metadata": {},
   "outputs": [],
   "source": [
    "social_vulnerability_score=[]\n",
    "for score in social_vul_data['features']: \n",
    "    social_vulnerability_score.append(score['properties']['Social_Vulnerability_Score'])"
   ]
  },
  {
   "cell_type": "code",
   "execution_count": 42,
   "id": "546e05b9-0a0b-424b-bb1c-9220002df49b",
   "metadata": {},
   "outputs": [],
   "source": [
    "social_vulnerability_house_hold_income=[]\n",
    "for house_hold_income in social_vul_data['features']: \n",
    "    social_vulnerability_house_hold_income.append(house_hold_income['properties']['MeanHouseholdIncome'])"
   ]
  },
  {
   "cell_type": "code",
   "execution_count": 43,
   "id": "b68c2936-5052-458e-89e1-0d913b178760",
   "metadata": {},
   "outputs": [],
   "source": [
    "social_vulnerability_county=[]\n",
    "for county in social_vul_data['features']: \n",
    "    social_vulnerability_county.append(county['properties']['COUNTY_NAME'])"
   ]
  },
  {
   "cell_type": "code",
   "execution_count": 44,
   "id": "a9caa816-8d23-4e96-9ee9-e257b14c8dbe",
   "metadata": {},
   "outputs": [],
   "source": [
    "social_vulnerability_below_poverty=[]\n",
    "for below_poverty in social_vul_data['features']: \n",
    "    social_vulnerability_below_poverty.append(below_poverty['properties']['Proportion_Below_Poverty'])"
   ]
  },
  {
   "cell_type": "code",
   "execution_count": 45,
   "id": "e09d3743-6a10-4db4-8d47-d211b93b9f47",
   "metadata": {},
   "outputs": [],
   "source": [
    "social_vulnerability_per_cap_income=[]\n",
    "for per_cap_income in social_vul_data['features']: \n",
    "    social_vulnerability_per_cap_income.append(per_cap_income['properties']['PerCapitaIncome'])"
   ]
  },
  {
   "cell_type": "code",
   "execution_count": 46,
   "id": "1837d7a1-e53b-414f-9218-90c7b564ad96",
   "metadata": {},
   "outputs": [],
   "source": [
    "social_vulnerability_no_hs_diploma=[]\n",
    "for no_hs_diploma in social_vul_data['features']: \n",
    "    social_vulnerability_no_hs_diploma.append(no_hs_diploma['properties']['Percent_noHighSchool_Diploma'])"
   ]
  },
  {
   "cell_type": "code",
   "execution_count": 81,
   "id": "9a373b9d-1ec5-4dd9-a7dd-e79a32513787",
   "metadata": {},
   "outputs": [
    {
     "data": {
      "text/plain": [
       "coordinates                     object\n",
       "Social_Vulnerability_Score      object\n",
       "MeanHouseholdIncome             object\n",
       "COUNTY_NAME                     object\n",
       "Proportion_Below_Poverty        object\n",
       "PerCapitaIncome                 object\n",
       "Percent_noHighSchool_Diploma    object\n",
       "dtype: object"
      ]
     },
     "execution_count": 81,
     "metadata": {},
     "output_type": "execute_result"
    }
   ],
   "source": [
    "social_df.dtypes"
   ]
  },
  {
   "cell_type": "code",
   "execution_count": 47,
   "id": "2979f90f-b73d-445c-b525-7b306d6ec771",
   "metadata": {},
   "outputs": [
    {
     "data": {
      "text/html": [
       "<div>\n",
       "<style scoped>\n",
       "    .dataframe tbody tr th:only-of-type {\n",
       "        vertical-align: middle;\n",
       "    }\n",
       "\n",
       "    .dataframe tbody tr th {\n",
       "        vertical-align: top;\n",
       "    }\n",
       "\n",
       "    .dataframe thead th {\n",
       "        text-align: right;\n",
       "    }\n",
       "</style>\n",
       "<table border=\"1\" class=\"dataframe\">\n",
       "  <thead>\n",
       "    <tr style=\"text-align: right;\">\n",
       "      <th></th>\n",
       "      <th>coordinates</th>\n",
       "      <th>Social_Vulnerability_Score</th>\n",
       "      <th>MeanHouseholdIncome</th>\n",
       "      <th>COUNTY_NAME</th>\n",
       "      <th>Proportion_Below_Poverty</th>\n",
       "      <th>PerCapitaIncome</th>\n",
       "      <th>Percent_noHighSchool_Diploma</th>\n",
       "    </tr>\n",
       "  </thead>\n",
       "  <tbody>\n",
       "    <tr>\n",
       "      <th>0</th>\n",
       "      <td>[[[-121.32744890184227, 36.42351890364264], [-...</td>\n",
       "      <td>0.9810</td>\n",
       "      <td>48125.0</td>\n",
       "      <td>Monterey</td>\n",
       "      <td>0.816893</td>\n",
       "      <td>12269.0</td>\n",
       "      <td>0.927496</td>\n",
       "    </tr>\n",
       "    <tr>\n",
       "      <th>1</th>\n",
       "      <td>[[[-121.33744690391782, 36.43170390354494], [-...</td>\n",
       "      <td>0.7795</td>\n",
       "      <td>76220.0</td>\n",
       "      <td>Monterey</td>\n",
       "      <td>0.364356</td>\n",
       "      <td>19792.0</td>\n",
       "      <td>0.869763</td>\n",
       "    </tr>\n",
       "  </tbody>\n",
       "</table>\n",
       "</div>"
      ],
      "text/plain": [
       "                                         coordinates  \\\n",
       "0  [[[-121.32744890184227, 36.42351890364264], [-...   \n",
       "1  [[[-121.33744690391782, 36.43170390354494], [-...   \n",
       "\n",
       "   Social_Vulnerability_Score  MeanHouseholdIncome COUNTY_NAME  \\\n",
       "0                      0.9810              48125.0    Monterey   \n",
       "1                      0.7795              76220.0    Monterey   \n",
       "\n",
       "   Proportion_Below_Poverty  PerCapitaIncome  Percent_noHighSchool_Diploma  \n",
       "0                  0.816893          12269.0                      0.927496  \n",
       "1                  0.364356          19792.0                      0.869763  "
      ]
     },
     "execution_count": 47,
     "metadata": {},
     "output_type": "execute_result"
    }
   ],
   "source": [
    "social_df=pd.DataFrame({'coordinates':social_vulnerability_cords,\n",
    "                        'Social_Vulnerability_Score': social_vulnerability_score,\n",
    "                        'MeanHouseholdIncome': social_vulnerability_house_hold_income,\n",
    "                        'COUNTY_NAME': social_vulnerability_county,\n",
    "                        'Proportion_Below_Poverty': social_vulnerability_below_poverty,\n",
    "                        'PerCapitaIncome': social_vulnerability_per_cap_income,\n",
    "                        'Percent_noHighSchool_Diploma':social_vulnerability_no_hs_diploma\n",
    "                       })\n",
    "social_df.head(2)"
   ]
  },
  {
   "cell_type": "code",
   "execution_count": 54,
   "id": "9955dd8c-e783-42ff-8c72-10801c763dd4",
   "metadata": {},
   "outputs": [],
   "source": [
    "engine=sql.create_engine('sqlite:///data/db3.sqlite')"
   ]
  },
  {
   "cell_type": "code",
   "execution_count": 55,
   "id": "09134e5f-85cd-41af-8488-bb5ed7295d95",
   "metadata": {},
   "outputs": [
    {
     "data": {
      "text/plain": [
       "Index(['coordinates', 'Social_Vulnerability_Score', 'MeanHouseholdIncome',\n",
       "       'COUNTY_NAME', 'Proportion_Below_Poverty', 'PerCapitaIncome',\n",
       "       'Percent_noHighSchool_Diploma'],\n",
       "      dtype='object')"
      ]
     },
     "execution_count": 55,
     "metadata": {},
     "output_type": "execute_result"
    }
   ],
   "source": [
    "social_df.columns"
   ]
  },
  {
   "cell_type": "code",
   "execution_count": 83,
   "id": "c0965234-a531-4bbd-af8b-f5ce1d623e01",
   "metadata": {},
   "outputs": [
    {
     "ename": "TypeError",
     "evalue": "data type 'blob' not understood",
     "output_type": "error",
     "traceback": [
      "\u001b[0;31m---------------------------------------------------------------------------\u001b[0m",
      "\u001b[0;31mTypeError\u001b[0m                                 Traceback (most recent call last)",
      "Cell \u001b[0;32mIn[83], line 3\u001b[0m\n\u001b[1;32m      1\u001b[0m \u001b[38;5;66;03m# social_df = social_df.astrype(blob)\u001b[39;00m\n\u001b[0;32m----> 3\u001b[0m social_df[\u001b[38;5;124m'\u001b[39m\u001b[38;5;124mcoordinates\u001b[39m\u001b[38;5;124m'\u001b[39m]\u001b[38;5;241m=\u001b[39m\u001b[43msocial_df\u001b[49m\u001b[43m[\u001b[49m\u001b[38;5;124;43m'\u001b[39;49m\u001b[38;5;124;43mcoordinates\u001b[39;49m\u001b[38;5;124;43m'\u001b[39;49m\u001b[43m]\u001b[49m\u001b[38;5;241;43m.\u001b[39;49m\u001b[43mastype\u001b[49m\u001b[43m(\u001b[49m\u001b[38;5;124;43m'\u001b[39;49m\u001b[38;5;124;43mblob\u001b[39;49m\u001b[38;5;124;43m'\u001b[39;49m\u001b[43m)\u001b[49m\n",
      "File \u001b[0;32m~/opt/miniconda3/lib/python3.9/site-packages/pandas/core/generic.py:6240\u001b[0m, in \u001b[0;36mNDFrame.astype\u001b[0;34m(self, dtype, copy, errors)\u001b[0m\n\u001b[1;32m   6233\u001b[0m     results \u001b[38;5;241m=\u001b[39m [\n\u001b[1;32m   6234\u001b[0m         \u001b[38;5;28mself\u001b[39m\u001b[38;5;241m.\u001b[39miloc[:, i]\u001b[38;5;241m.\u001b[39mastype(dtype, copy\u001b[38;5;241m=\u001b[39mcopy)\n\u001b[1;32m   6235\u001b[0m         \u001b[38;5;28;01mfor\u001b[39;00m i \u001b[38;5;129;01min\u001b[39;00m \u001b[38;5;28mrange\u001b[39m(\u001b[38;5;28mlen\u001b[39m(\u001b[38;5;28mself\u001b[39m\u001b[38;5;241m.\u001b[39mcolumns))\n\u001b[1;32m   6236\u001b[0m     ]\n\u001b[1;32m   6238\u001b[0m \u001b[38;5;28;01melse\u001b[39;00m:\n\u001b[1;32m   6239\u001b[0m     \u001b[38;5;66;03m# else, only a single dtype is given\u001b[39;00m\n\u001b[0;32m-> 6240\u001b[0m     new_data \u001b[38;5;241m=\u001b[39m \u001b[38;5;28;43mself\u001b[39;49m\u001b[38;5;241;43m.\u001b[39;49m\u001b[43m_mgr\u001b[49m\u001b[38;5;241;43m.\u001b[39;49m\u001b[43mastype\u001b[49m\u001b[43m(\u001b[49m\u001b[43mdtype\u001b[49m\u001b[38;5;241;43m=\u001b[39;49m\u001b[43mdtype\u001b[49m\u001b[43m,\u001b[49m\u001b[43m \u001b[49m\u001b[43mcopy\u001b[49m\u001b[38;5;241;43m=\u001b[39;49m\u001b[43mcopy\u001b[49m\u001b[43m,\u001b[49m\u001b[43m \u001b[49m\u001b[43merrors\u001b[49m\u001b[38;5;241;43m=\u001b[39;49m\u001b[43merrors\u001b[49m\u001b[43m)\u001b[49m\n\u001b[1;32m   6241\u001b[0m     \u001b[38;5;28;01mreturn\u001b[39;00m \u001b[38;5;28mself\u001b[39m\u001b[38;5;241m.\u001b[39m_constructor(new_data)\u001b[38;5;241m.\u001b[39m__finalize__(\u001b[38;5;28mself\u001b[39m, method\u001b[38;5;241m=\u001b[39m\u001b[38;5;124m\"\u001b[39m\u001b[38;5;124mastype\u001b[39m\u001b[38;5;124m\"\u001b[39m)\n\u001b[1;32m   6243\u001b[0m \u001b[38;5;66;03m# GH 33113: handle empty frame or series\u001b[39;00m\n",
      "File \u001b[0;32m~/opt/miniconda3/lib/python3.9/site-packages/pandas/core/internals/managers.py:448\u001b[0m, in \u001b[0;36mBaseBlockManager.astype\u001b[0;34m(self, dtype, copy, errors)\u001b[0m\n\u001b[1;32m    447\u001b[0m \u001b[38;5;28;01mdef\u001b[39;00m \u001b[38;5;21mastype\u001b[39m(\u001b[38;5;28mself\u001b[39m: T, dtype, copy: \u001b[38;5;28mbool\u001b[39m \u001b[38;5;241m=\u001b[39m \u001b[38;5;28;01mFalse\u001b[39;00m, errors: \u001b[38;5;28mstr\u001b[39m \u001b[38;5;241m=\u001b[39m \u001b[38;5;124m\"\u001b[39m\u001b[38;5;124mraise\u001b[39m\u001b[38;5;124m\"\u001b[39m) \u001b[38;5;241m-\u001b[39m\u001b[38;5;241m>\u001b[39m T:\n\u001b[0;32m--> 448\u001b[0m     \u001b[38;5;28;01mreturn\u001b[39;00m \u001b[38;5;28;43mself\u001b[39;49m\u001b[38;5;241;43m.\u001b[39;49m\u001b[43mapply\u001b[49m\u001b[43m(\u001b[49m\u001b[38;5;124;43m\"\u001b[39;49m\u001b[38;5;124;43mastype\u001b[39;49m\u001b[38;5;124;43m\"\u001b[39;49m\u001b[43m,\u001b[49m\u001b[43m \u001b[49m\u001b[43mdtype\u001b[49m\u001b[38;5;241;43m=\u001b[39;49m\u001b[43mdtype\u001b[49m\u001b[43m,\u001b[49m\u001b[43m \u001b[49m\u001b[43mcopy\u001b[49m\u001b[38;5;241;43m=\u001b[39;49m\u001b[43mcopy\u001b[49m\u001b[43m,\u001b[49m\u001b[43m \u001b[49m\u001b[43merrors\u001b[49m\u001b[38;5;241;43m=\u001b[39;49m\u001b[43merrors\u001b[49m\u001b[43m)\u001b[49m\n",
      "File \u001b[0;32m~/opt/miniconda3/lib/python3.9/site-packages/pandas/core/internals/managers.py:352\u001b[0m, in \u001b[0;36mBaseBlockManager.apply\u001b[0;34m(self, f, align_keys, ignore_failures, **kwargs)\u001b[0m\n\u001b[1;32m    350\u001b[0m         applied \u001b[38;5;241m=\u001b[39m b\u001b[38;5;241m.\u001b[39mapply(f, \u001b[38;5;241m*\u001b[39m\u001b[38;5;241m*\u001b[39mkwargs)\n\u001b[1;32m    351\u001b[0m     \u001b[38;5;28;01melse\u001b[39;00m:\n\u001b[0;32m--> 352\u001b[0m         applied \u001b[38;5;241m=\u001b[39m \u001b[38;5;28;43mgetattr\u001b[39;49m\u001b[43m(\u001b[49m\u001b[43mb\u001b[49m\u001b[43m,\u001b[49m\u001b[43m \u001b[49m\u001b[43mf\u001b[49m\u001b[43m)\u001b[49m\u001b[43m(\u001b[49m\u001b[38;5;241;43m*\u001b[39;49m\u001b[38;5;241;43m*\u001b[39;49m\u001b[43mkwargs\u001b[49m\u001b[43m)\u001b[49m\n\u001b[1;32m    353\u001b[0m \u001b[38;5;28;01mexcept\u001b[39;00m (\u001b[38;5;167;01mTypeError\u001b[39;00m, \u001b[38;5;167;01mNotImplementedError\u001b[39;00m):\n\u001b[1;32m    354\u001b[0m     \u001b[38;5;28;01mif\u001b[39;00m \u001b[38;5;129;01mnot\u001b[39;00m ignore_failures:\n",
      "File \u001b[0;32m~/opt/miniconda3/lib/python3.9/site-packages/pandas/core/internals/blocks.py:526\u001b[0m, in \u001b[0;36mBlock.astype\u001b[0;34m(self, dtype, copy, errors)\u001b[0m\n\u001b[1;32m    508\u001b[0m \u001b[38;5;250m\u001b[39m\u001b[38;5;124;03m\"\"\"\u001b[39;00m\n\u001b[1;32m    509\u001b[0m \u001b[38;5;124;03mCoerce to the new dtype.\u001b[39;00m\n\u001b[1;32m    510\u001b[0m \n\u001b[0;32m   (...)\u001b[0m\n\u001b[1;32m    522\u001b[0m \u001b[38;5;124;03mBlock\u001b[39;00m\n\u001b[1;32m    523\u001b[0m \u001b[38;5;124;03m\"\"\"\u001b[39;00m\n\u001b[1;32m    524\u001b[0m values \u001b[38;5;241m=\u001b[39m \u001b[38;5;28mself\u001b[39m\u001b[38;5;241m.\u001b[39mvalues\n\u001b[0;32m--> 526\u001b[0m new_values \u001b[38;5;241m=\u001b[39m \u001b[43mastype_array_safe\u001b[49m\u001b[43m(\u001b[49m\u001b[43mvalues\u001b[49m\u001b[43m,\u001b[49m\u001b[43m \u001b[49m\u001b[43mdtype\u001b[49m\u001b[43m,\u001b[49m\u001b[43m \u001b[49m\u001b[43mcopy\u001b[49m\u001b[38;5;241;43m=\u001b[39;49m\u001b[43mcopy\u001b[49m\u001b[43m,\u001b[49m\u001b[43m \u001b[49m\u001b[43merrors\u001b[49m\u001b[38;5;241;43m=\u001b[39;49m\u001b[43merrors\u001b[49m\u001b[43m)\u001b[49m\n\u001b[1;32m    528\u001b[0m new_values \u001b[38;5;241m=\u001b[39m maybe_coerce_values(new_values)\n\u001b[1;32m    529\u001b[0m newb \u001b[38;5;241m=\u001b[39m \u001b[38;5;28mself\u001b[39m\u001b[38;5;241m.\u001b[39mmake_block(new_values)\n",
      "File \u001b[0;32m~/opt/miniconda3/lib/python3.9/site-packages/pandas/core/dtypes/astype.py:279\u001b[0m, in \u001b[0;36mastype_array_safe\u001b[0;34m(values, dtype, copy, errors)\u001b[0m\n\u001b[1;32m    273\u001b[0m     msg \u001b[38;5;241m=\u001b[39m (\n\u001b[1;32m    274\u001b[0m         \u001b[38;5;124mf\u001b[39m\u001b[38;5;124m\"\u001b[39m\u001b[38;5;124mExpected an instance of \u001b[39m\u001b[38;5;132;01m{\u001b[39;00mdtype\u001b[38;5;241m.\u001b[39m\u001b[38;5;18m__name__\u001b[39m\u001b[38;5;132;01m}\u001b[39;00m\u001b[38;5;124m, \u001b[39m\u001b[38;5;124m\"\u001b[39m\n\u001b[1;32m    275\u001b[0m         \u001b[38;5;124m\"\u001b[39m\u001b[38;5;124mbut got the class instead. Try instantiating \u001b[39m\u001b[38;5;124m'\u001b[39m\u001b[38;5;124mdtype\u001b[39m\u001b[38;5;124m'\u001b[39m\u001b[38;5;124m.\u001b[39m\u001b[38;5;124m\"\u001b[39m\n\u001b[1;32m    276\u001b[0m     )\n\u001b[1;32m    277\u001b[0m     \u001b[38;5;28;01mraise\u001b[39;00m \u001b[38;5;167;01mTypeError\u001b[39;00m(msg)\n\u001b[0;32m--> 279\u001b[0m dtype \u001b[38;5;241m=\u001b[39m \u001b[43mpandas_dtype\u001b[49m\u001b[43m(\u001b[49m\u001b[43mdtype\u001b[49m\u001b[43m)\u001b[49m\n\u001b[1;32m    280\u001b[0m \u001b[38;5;28;01mif\u001b[39;00m \u001b[38;5;28misinstance\u001b[39m(dtype, PandasDtype):\n\u001b[1;32m    281\u001b[0m     \u001b[38;5;66;03m# Ensure we don't end up with a PandasArray\u001b[39;00m\n\u001b[1;32m    282\u001b[0m     dtype \u001b[38;5;241m=\u001b[39m dtype\u001b[38;5;241m.\u001b[39mnumpy_dtype\n",
      "File \u001b[0;32m~/opt/miniconda3/lib/python3.9/site-packages/pandas/core/dtypes/common.py:1781\u001b[0m, in \u001b[0;36mpandas_dtype\u001b[0;34m(dtype)\u001b[0m\n\u001b[1;32m   1778\u001b[0m \u001b[38;5;66;03m# try a numpy dtype\u001b[39;00m\n\u001b[1;32m   1779\u001b[0m \u001b[38;5;66;03m# raise a consistent TypeError if failed\u001b[39;00m\n\u001b[1;32m   1780\u001b[0m \u001b[38;5;28;01mtry\u001b[39;00m:\n\u001b[0;32m-> 1781\u001b[0m     npdtype \u001b[38;5;241m=\u001b[39m \u001b[43mnp\u001b[49m\u001b[38;5;241;43m.\u001b[39;49m\u001b[43mdtype\u001b[49m\u001b[43m(\u001b[49m\u001b[43mdtype\u001b[49m\u001b[43m)\u001b[49m\n\u001b[1;32m   1782\u001b[0m \u001b[38;5;28;01mexcept\u001b[39;00m \u001b[38;5;167;01mSyntaxError\u001b[39;00m \u001b[38;5;28;01mas\u001b[39;00m err:\n\u001b[1;32m   1783\u001b[0m     \u001b[38;5;66;03m# np.dtype uses `eval` which can raise SyntaxError\u001b[39;00m\n\u001b[1;32m   1784\u001b[0m     \u001b[38;5;28;01mraise\u001b[39;00m \u001b[38;5;167;01mTypeError\u001b[39;00m(\u001b[38;5;124mf\u001b[39m\u001b[38;5;124m\"\u001b[39m\u001b[38;5;124mdata type \u001b[39m\u001b[38;5;124m'\u001b[39m\u001b[38;5;132;01m{\u001b[39;00mdtype\u001b[38;5;132;01m}\u001b[39;00m\u001b[38;5;124m'\u001b[39m\u001b[38;5;124m not understood\u001b[39m\u001b[38;5;124m\"\u001b[39m) \u001b[38;5;28;01mfrom\u001b[39;00m \u001b[38;5;21;01merr\u001b[39;00m\n",
      "\u001b[0;31mTypeError\u001b[0m: data type 'blob' not understood"
     ]
    }
   ],
   "source": [
    "# social_df = social_df.astrype(blob)\n",
    "\n",
    "social_df['coordinates']=social_df['coordinates'].astype('blob')\n"
   ]
  },
  {
   "cell_type": "code",
   "execution_count": null,
   "id": "c4d73235-2f4d-4b5c-b3cc-733e7346e871",
   "metadata": {},
   "outputs": [],
   "source": [
    "social_df['Social_Vulnerability_Score']=social_df['Social_Vulnerability_Score'].astype('blob')"
   ]
  },
  {
   "cell_type": "code",
   "execution_count": 73,
   "id": "32fdbe5e-dc4a-4189-ae98-4a99d7501e10",
   "metadata": {},
   "outputs": [
    {
     "data": {
      "text/plain": [
       "list"
      ]
     },
     "execution_count": 73,
     "metadata": {},
     "output_type": "execute_result"
    }
   ],
   "source": [
    "results=engine.execute('select * from data').all()\n",
    "type(results)"
   ]
  },
  {
   "cell_type": "code",
   "execution_count": 74,
   "id": "56ac5f6e-6870-47c0-a0c6-5d53c1c7c3fa",
   "metadata": {},
   "outputs": [],
   "source": [
    "data=[]\n",
    "for each_result in results: \n",
    "    data.append(list(each_result))"
   ]
  },
  {
   "cell_type": "code",
   "execution_count": 75,
   "id": "6afada3e-d99d-4ccd-b0d9-3a5775faaad2",
   "metadata": {},
   "outputs": [
    {
     "data": {
      "text/plain": [
       "['[[[-118.37451119023838, 33.8227338237482], [-118.37451419061144, 33.82267782304652], [-118.37445519106019, 33.82169182288871], [-118.37444819048916, 33.82138082328101], [-118.37445419033695, 33.8211908234225], [-118.37451319078652, 33.81961682244681], [-118.37444919031408, 33.81961582238486], [-118.37428818975728, 33.81961282369142], [-118.37382618979993, 33.81959782275974], [-118.37382919017298, 33.81973582302269], [-118.37381519082759, 33.819883823652106], [-118.37379718948762, 33.81997382293139], [-118.37375019053027, 33.8200098227658], [-118.37346618994982, 33.8200298231648], [-118.37060118942094, 33.82002182345357], [-118.36970618892019, 33.82004482327444], [-118.36970818946831, 33.820260822620796], [-118.3697391903288, 33.82087782339103], [-118.36976518936977, 33.821382823363685], [-118.36975018930114, 33.82239882349515], [-118.36977919051176, 33.82331882399494], [-118.36978118926326, 33.823404823320004], [-118.36975819059538, 33.823897823899685], [-118.36978719000938, 33.82420182325066], [-118.3698811897207, 33.824285823911765], [-118.36996318973647, 33.82433582351985], [-118.37002319001093, 33.824372823016986], [-118.37006719039186, 33.82439882392471], [-118.37031318954084, 33.824547823204995], [-118.37050218968672, 33.82470482299204], [-118.37058518952738, 33.824816823942655], [-118.37061819003767, 33.82490082325338], [-118.37064018977897, 33.82506682386954], [-118.37063619047933, 33.82603982408914], [-118.37061519056296, 33.82693282411509], [-118.3706211895124, 33.82708682407669], [-118.37097818988781, 33.82711682405629], [-118.37140719023319, 33.82719682419926], [-118.3716341900139, 33.827237824588636], [-118.37198219106678, 33.82732582364709], [-118.37225618980484, 33.82741282413666], [-118.37229819053596, 33.82742582375617], [-118.37271019026458, 33.82756982463314], [-118.37293619111871, 33.82766182396781], [-118.37291819067705, 33.827568823917936], [-118.37291219082928, 33.82754082403552], [-118.37286118987734, 33.82727982343822], [-118.37307019101304, 33.82729682445922], [-118.3732541902377, 33.827311824040365], [-118.37345019095461, 33.827327823590714], [-118.37366319049163, 33.8273448238559], [-118.37397419083626, 33.82736982388861], [-118.37408619098925, 33.82737882362994], [-118.37432719101368, 33.82739882379792], [-118.3744281903977, 33.827406823565354], [-118.3744281903977, 33.82733182422408], [-118.37442919112092, 33.826941823902416], [-118.37443319131887, 33.82686782413041], [-118.37442919112092, 33.82679182359201], [-118.37442919112092, 33.82661782349929], [-118.37442919112092, 33.82643882388786], [-118.37443019094584, 33.826268823759875], [-118.37443019094584, 33.82610882315507], [-118.37443019094584, 33.825960823597704], [-118.37443019094584, 33.82591382341237], [-118.37444619083938, 33.82583282431845], [-118.37445019103733, 33.82479382391265], [-118.37445519106019, 33.823751822781446], [-118.37451119023838, 33.8227338237482]]]',\n",
       " 0.3115,\n",
       " 124706.0,\n",
       " 'Los Angeles',\n",
       " 0.05629139,\n",
       " 83852.0,\n",
       " 0.49826188]"
      ]
     },
     "execution_count": 75,
     "metadata": {},
     "output_type": "execute_result"
    }
   ],
   "source": [
    "data[-1]"
   ]
  },
  {
   "cell_type": "code",
   "execution_count": 67,
   "id": "78cd47e4-765c-409e-b21c-bb72da40139a",
   "metadata": {},
   "outputs": [],
   "source": [
    "engine=sql.create_engine('sqlite:///data/db.sqlite')"
   ]
  },
  {
   "cell_type": "code",
   "execution_count": 68,
   "id": "ef1bfc76-9392-4aa6-8355-f83d34c622c7",
   "metadata": {},
   "outputs": [],
   "source": [
    "results=engine.execute('select * from data').all()"
   ]
  },
  {
   "cell_type": "code",
   "execution_count": 77,
   "id": "9ebe21ce-231f-41af-bf64-762a286f6bb7",
   "metadata": {},
   "outputs": [
    {
     "data": {
      "text/plain": [
       "coordinates                     object\n",
       "Social_Vulnerability_Score      object\n",
       "MeanHouseholdIncome             object\n",
       "COUNTY_NAME                     object\n",
       "Proportion_Below_Poverty        object\n",
       "PerCapitaIncome                 object\n",
       "Percent_noHighSchool_Diploma    object\n",
       "dtype: object"
      ]
     },
     "execution_count": 77,
     "metadata": {},
     "output_type": "execute_result"
    }
   ],
   "source": [
    "social_df.dtypes"
   ]
  },
  {
   "cell_type": "code",
   "execution_count": 70,
   "id": "f86bcaf6-82ee-4e24-9914-3433352f60aa",
   "metadata": {},
   "outputs": [],
   "source": [
    "social_dft=[]\n",
    "for each_result in results: \n",
    "    shape=eval(each_result[0])\n",
    "    social_dft.append(shape)"
   ]
  },
  {
   "cell_type": "code",
   "execution_count": 71,
   "id": "67ac2d6f-ab7b-49ed-b2da-1c2647c119b3",
   "metadata": {},
   "outputs": [
    {
     "data": {
      "text/html": [
       "<div>\n",
       "<style scoped>\n",
       "    .dataframe tbody tr th:only-of-type {\n",
       "        vertical-align: middle;\n",
       "    }\n",
       "\n",
       "    .dataframe tbody tr th {\n",
       "        vertical-align: top;\n",
       "    }\n",
       "\n",
       "    .dataframe thead th {\n",
       "        text-align: right;\n",
       "    }\n",
       "</style>\n",
       "<table border=\"1\" class=\"dataframe\">\n",
       "  <thead>\n",
       "    <tr style=\"text-align: right;\">\n",
       "      <th></th>\n",
       "      <th>coordinates</th>\n",
       "      <th>Social_Vulnerability_Score</th>\n",
       "      <th>MeanHouseholdIncome</th>\n",
       "      <th>COUNTY_NAME</th>\n",
       "      <th>Proportion_Below_Poverty</th>\n",
       "      <th>PerCapitaIncome</th>\n",
       "      <th>Percent_noHighSchool_Diploma</th>\n",
       "    </tr>\n",
       "  </thead>\n",
       "  <tbody>\n",
       "    <tr>\n",
       "      <th>0</th>\n",
       "      <td>[[[-121.32744890184227, 36.42351890364264], [-...</td>\n",
       "      <td>0.981</td>\n",
       "      <td>48125.0</td>\n",
       "      <td>Monterey</td>\n",
       "      <td>0.81689253</td>\n",
       "      <td>12269.0</td>\n",
       "      <td>0.92749582</td>\n",
       "    </tr>\n",
       "    <tr>\n",
       "      <th>1</th>\n",
       "      <td>[[[-121.33744690391782, 36.43170390354494], [-...</td>\n",
       "      <td>0.7795</td>\n",
       "      <td>76220.0</td>\n",
       "      <td>Monterey</td>\n",
       "      <td>0.36435644</td>\n",
       "      <td>19792.0</td>\n",
       "      <td>0.86976321</td>\n",
       "    </tr>\n",
       "    <tr>\n",
       "      <th>2</th>\n",
       "      <td>[[[-122.70181532599452, 38.3548179697951], [-1...</td>\n",
       "      <td>0.0117</td>\n",
       "      <td>160156.0</td>\n",
       "      <td>Sonoma</td>\n",
       "      <td>0.0</td>\n",
       "      <td>66425.0</td>\n",
       "      <td>0.48773006</td>\n",
       "    </tr>\n",
       "    <tr>\n",
       "      <th>3</th>\n",
       "      <td>[[[-119.63718584494936, 38.32793119720473], [-...</td>\n",
       "      <td>0.751</td>\n",
       "      <td>62634.0</td>\n",
       "      <td>Mono</td>\n",
       "      <td>0.26456876</td>\n",
       "      <td>35898.0</td>\n",
       "      <td>0.87707182</td>\n",
       "    </tr>\n",
       "    <tr>\n",
       "      <th>4</th>\n",
       "      <td>[[[-122.69011532637433, 38.371326972417194], [...</td>\n",
       "      <td>0.1752</td>\n",
       "      <td>113977.0</td>\n",
       "      <td>Sonoma</td>\n",
       "      <td>0.17849687</td>\n",
       "      <td>41509.0</td>\n",
       "      <td>0.6673913</td>\n",
       "    </tr>\n",
       "    <tr>\n",
       "      <th>...</th>\n",
       "      <td>...</td>\n",
       "      <td>...</td>\n",
       "      <td>...</td>\n",
       "      <td>...</td>\n",
       "      <td>...</td>\n",
       "      <td>...</td>\n",
       "      <td>...</td>\n",
       "    </tr>\n",
       "    <tr>\n",
       "      <th>23207</th>\n",
       "      <td>[[[-118.09489813974567, 33.77353683312718], [-...</td>\n",
       "      <td>0.5132</td>\n",
       "      <td>28421.0</td>\n",
       "      <td>Orange</td>\n",
       "      <td>0.37269373</td>\n",
       "      <td>41831.0</td>\n",
       "      <td>0.67896679</td>\n",
       "    </tr>\n",
       "    <tr>\n",
       "      <th>23208</th>\n",
       "      <td>[[[-118.35103918473978, 33.80753182284916], [-...</td>\n",
       "      <td>0.6329</td>\n",
       "      <td>92786.0</td>\n",
       "      <td>Los Angeles</td>\n",
       "      <td>0.10482921</td>\n",
       "      <td>44960.0</td>\n",
       "      <td>0.49593496</td>\n",
       "    </tr>\n",
       "    <tr>\n",
       "      <th>23209</th>\n",
       "      <td>[[[-118.372655190013, 33.81508682323727], [-11...</td>\n",
       "      <td>0.0067</td>\n",
       "      <td>152461.0</td>\n",
       "      <td>Los Angeles</td>\n",
       "      <td>0.04626709</td>\n",
       "      <td>70148.0</td>\n",
       "      <td>0.472</td>\n",
       "    </tr>\n",
       "    <tr>\n",
       "      <th>23210</th>\n",
       "      <td>[[[-118.37444919031408, 33.81961582238486], [-...</td>\n",
       "      <td>0.1615</td>\n",
       "      <td>128854.0</td>\n",
       "      <td>Los Angeles</td>\n",
       "      <td>0.10159817</td>\n",
       "      <td>55518.0</td>\n",
       "      <td>0.37052342</td>\n",
       "    </tr>\n",
       "    <tr>\n",
       "      <th>23211</th>\n",
       "      <td>[[[-118.37451119023838, 33.8227338237482], [-1...</td>\n",
       "      <td>0.3115</td>\n",
       "      <td>124706.0</td>\n",
       "      <td>Los Angeles</td>\n",
       "      <td>0.05629139</td>\n",
       "      <td>83852.0</td>\n",
       "      <td>0.49826188</td>\n",
       "    </tr>\n",
       "  </tbody>\n",
       "</table>\n",
       "<p>23212 rows × 7 columns</p>\n",
       "</div>"
      ],
      "text/plain": [
       "                                             coordinates  \\\n",
       "0      [[[-121.32744890184227, 36.42351890364264], [-...   \n",
       "1      [[[-121.33744690391782, 36.43170390354494], [-...   \n",
       "2      [[[-122.70181532599452, 38.3548179697951], [-1...   \n",
       "3      [[[-119.63718584494936, 38.32793119720473], [-...   \n",
       "4      [[[-122.69011532637433, 38.371326972417194], [...   \n",
       "...                                                  ...   \n",
       "23207  [[[-118.09489813974567, 33.77353683312718], [-...   \n",
       "23208  [[[-118.35103918473978, 33.80753182284916], [-...   \n",
       "23209  [[[-118.372655190013, 33.81508682323727], [-11...   \n",
       "23210  [[[-118.37444919031408, 33.81961582238486], [-...   \n",
       "23211  [[[-118.37451119023838, 33.8227338237482], [-1...   \n",
       "\n",
       "      Social_Vulnerability_Score MeanHouseholdIncome  COUNTY_NAME  \\\n",
       "0                          0.981             48125.0     Monterey   \n",
       "1                         0.7795             76220.0     Monterey   \n",
       "2                         0.0117            160156.0       Sonoma   \n",
       "3                          0.751             62634.0         Mono   \n",
       "4                         0.1752            113977.0       Sonoma   \n",
       "...                          ...                 ...          ...   \n",
       "23207                     0.5132             28421.0       Orange   \n",
       "23208                     0.6329             92786.0  Los Angeles   \n",
       "23209                     0.0067            152461.0  Los Angeles   \n",
       "23210                     0.1615            128854.0  Los Angeles   \n",
       "23211                     0.3115            124706.0  Los Angeles   \n",
       "\n",
       "      Proportion_Below_Poverty PerCapitaIncome Percent_noHighSchool_Diploma  \n",
       "0                   0.81689253         12269.0                   0.92749582  \n",
       "1                   0.36435644         19792.0                   0.86976321  \n",
       "2                          0.0         66425.0                   0.48773006  \n",
       "3                   0.26456876         35898.0                   0.87707182  \n",
       "4                   0.17849687         41509.0                    0.6673913  \n",
       "...                        ...             ...                          ...  \n",
       "23207               0.37269373         41831.0                   0.67896679  \n",
       "23208               0.10482921         44960.0                   0.49593496  \n",
       "23209               0.04626709         70148.0                        0.472  \n",
       "23210               0.10159817         55518.0                   0.37052342  \n",
       "23211               0.05629139         83852.0                   0.49826188  \n",
       "\n",
       "[23212 rows x 7 columns]"
      ]
     },
     "execution_count": 71,
     "metadata": {},
     "output_type": "execute_result"
    }
   ],
   "source": [
    "social_df"
   ]
  },
  {
   "cell_type": "code",
   "execution_count": null,
   "id": "6f578839-5463-47f2-a9c7-f9c363da38e3",
   "metadata": {},
   "outputs": [],
   "source": []
  }
 ],
 "metadata": {
  "kernelspec": {
   "display_name": "Python 3 (ipykernel)",
   "language": "python",
   "name": "python3"
  },
  "language_info": {
   "codemirror_mode": {
    "name": "ipython",
    "version": 3
   },
   "file_extension": ".py",
   "mimetype": "text/x-python",
   "name": "python",
   "nbconvert_exporter": "python",
   "pygments_lexer": "ipython3",
   "version": "3.9.15"
  }
 },
 "nbformat": 4,
 "nbformat_minor": 5
}
