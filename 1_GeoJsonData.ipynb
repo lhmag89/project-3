{
 "cells": [
  {
   "cell_type": "code",
   "execution_count": 2,
   "id": "ee4abdbe-c3d8-448d-829b-c0295b5f2488",
   "metadata": {},
   "outputs": [],
   "source": [
    "# data was collected from 2020"
   ]
  },
  {
   "cell_type": "code",
   "execution_count": 3,
   "id": "30d5612a-e3e0-4cf5-8ed3-b07501a8e925",
   "metadata": {},
   "outputs": [],
   "source": [
    "import pandas as pd\n",
    "import sqlalchemy\n",
    "import json\n",
    "import numpy as np"
   ]
  },
  {
   "cell_type": "code",
   "execution_count": 4,
   "id": "9fa905dc-d151-4d96-ab3e-0668b41eb839",
   "metadata": {},
   "outputs": [],
   "source": [
    "with open('SourceData/WaterShortageSocialVulnerabilityData.geojson') as data_source:\n",
    "    social_vul_data=json.load(data_source)"
   ]
  },
  {
   "cell_type": "code",
   "execution_count": 5,
   "id": "41341974-321d-48cd-9281-7f9bcdd8ceb8",
   "metadata": {},
   "outputs": [],
   "source": [
    "social_vulnerability_cords=[]\n",
    "for cords in social_vul_data['features']: \n",
    "    social_vulnerability_cords.append(cords['geometry']['coordinates'])"
   ]
  },
  {
   "cell_type": "code",
   "execution_count": 6,
   "id": "735e4a80-6c22-4aa0-94d4-83189516fe9d",
   "metadata": {},
   "outputs": [],
   "source": [
    "social_vulnerability_score=[]\n",
    "for score in social_vul_data['features']: \n",
    "    social_vulnerability_score.append(score['properties']['Social_Vulnerability_Score'])"
   ]
  },
  {
   "cell_type": "code",
   "execution_count": 7,
   "id": "546e05b9-0a0b-424b-bb1c-9220002df49b",
   "metadata": {},
   "outputs": [],
   "source": [
    "social_vulnerability_house_hold_income=[]\n",
    "for house_hold_income in social_vul_data['features']: \n",
    "    social_vulnerability_house_hold_income.append(house_hold_income['properties']['MeanHouseholdIncome'])"
   ]
  },
  {
   "cell_type": "code",
   "execution_count": 8,
   "id": "b68c2936-5052-458e-89e1-0d913b178760",
   "metadata": {},
   "outputs": [],
   "source": [
    "social_vulnerability_county=[]\n",
    "for county in social_vul_data['features']: \n",
    "    social_vulnerability_county.append(county['properties']['COUNTY_NAME'])"
   ]
  },
  {
   "cell_type": "code",
   "execution_count": 9,
   "id": "a9caa816-8d23-4e96-9ee9-e257b14c8dbe",
   "metadata": {},
   "outputs": [],
   "source": [
    "social_vulnerability_below_poverty=[]\n",
    "for below_poverty in social_vul_data['features']: \n",
    "    social_vulnerability_below_poverty.append(below_poverty['properties']['Proportion_Below_Poverty'])"
   ]
  },
  {
   "cell_type": "code",
   "execution_count": 10,
   "id": "e09d3743-6a10-4db4-8d47-d211b93b9f47",
   "metadata": {},
   "outputs": [],
   "source": [
    "social_vulnerability_per_cap_income=[]\n",
    "for per_cap_income in social_vul_data['features']: \n",
    "    social_vulnerability_per_cap_income.append(per_cap_income['properties']['PerCapitaIncome'])"
   ]
  },
  {
   "cell_type": "code",
   "execution_count": null,
   "id": "ccc2c0de",
   "metadata": {},
   "outputs": [],
   "source": [
    "#get tractid\n",
    "# social_vulnerability_per_cap_income=[]\n",
    "# for per_cap_income in social_vul_data['features']: \n",
    "#     social_vulnerability_per_cap_income.append(per_cap_income['properties']['PerCapitaIncome'])"
   ]
  },
  {
   "cell_type": "code",
   "execution_count": 11,
   "id": "1837d7a1-e53b-414f-9218-90c7b564ad96",
   "metadata": {},
   "outputs": [],
   "source": [
    "social_vulnerability_no_hs_diploma=[]\n",
    "for no_hs_diploma in social_vul_data['features']: \n",
    "    social_vulnerability_no_hs_diploma.append(no_hs_diploma['properties']['Percent_noHighSchool_Diploma'])"
   ]
  },
  {
   "cell_type": "code",
   "execution_count": 12,
   "id": "2979f90f-b73d-445c-b525-7b306d6ec771",
   "metadata": {},
   "outputs": [
    {
     "data": {
      "text/html": [
       "<div>\n",
       "<style scoped>\n",
       "    .dataframe tbody tr th:only-of-type {\n",
       "        vertical-align: middle;\n",
       "    }\n",
       "\n",
       "    .dataframe tbody tr th {\n",
       "        vertical-align: top;\n",
       "    }\n",
       "\n",
       "    .dataframe thead th {\n",
       "        text-align: right;\n",
       "    }\n",
       "</style>\n",
       "<table border=\"1\" class=\"dataframe\">\n",
       "  <thead>\n",
       "    <tr style=\"text-align: right;\">\n",
       "      <th></th>\n",
       "      <th>coordinates</th>\n",
       "      <th>Social_Vulnerability_Score</th>\n",
       "      <th>MeanHouseholdIncome</th>\n",
       "      <th>COUNTY_NAME</th>\n",
       "      <th>Proportion_Below_Poverty</th>\n",
       "      <th>PerCapitaIncome</th>\n",
       "      <th>Percent_noHighSchool_Diploma</th>\n",
       "    </tr>\n",
       "  </thead>\n",
       "  <tbody>\n",
       "    <tr>\n",
       "      <th>0</th>\n",
       "      <td>[[[-121.32744890184227, 36.42351890364264], [-...</td>\n",
       "      <td>0.9810</td>\n",
       "      <td>48125.0</td>\n",
       "      <td>Monterey</td>\n",
       "      <td>0.816893</td>\n",
       "      <td>12269.0</td>\n",
       "      <td>0.927496</td>\n",
       "    </tr>\n",
       "    <tr>\n",
       "      <th>1</th>\n",
       "      <td>[[[-121.33744690391782, 36.43170390354494], [-...</td>\n",
       "      <td>0.7795</td>\n",
       "      <td>76220.0</td>\n",
       "      <td>Monterey</td>\n",
       "      <td>0.364356</td>\n",
       "      <td>19792.0</td>\n",
       "      <td>0.869763</td>\n",
       "    </tr>\n",
       "  </tbody>\n",
       "</table>\n",
       "</div>"
      ],
      "text/plain": [
       "                                         coordinates  \\\n",
       "0  [[[-121.32744890184227, 36.42351890364264], [-...   \n",
       "1  [[[-121.33744690391782, 36.43170390354494], [-...   \n",
       "\n",
       "   Social_Vulnerability_Score  MeanHouseholdIncome COUNTY_NAME  \\\n",
       "0                      0.9810              48125.0    Monterey   \n",
       "1                      0.7795              76220.0    Monterey   \n",
       "\n",
       "   Proportion_Below_Poverty  PerCapitaIncome  Percent_noHighSchool_Diploma  \n",
       "0                  0.816893          12269.0                      0.927496  \n",
       "1                  0.364356          19792.0                      0.869763  "
      ]
     },
     "execution_count": 12,
     "metadata": {},
     "output_type": "execute_result"
    }
   ],
   "source": [
    "social_df=pd.DataFrame({'coordinates':social_vulnerability_cords,\n",
    "                        'Social_Vulnerability_Score': social_vulnerability_score,\n",
    "                        'MeanHouseholdIncome': social_vulnerability_house_hold_income,\n",
    "                        'COUNTY_NAME': social_vulnerability_county,\n",
    "                        'Proportion_Below_Poverty': social_vulnerability_below_poverty,\n",
    "                        'PerCapitaIncome': social_vulnerability_per_cap_income,\n",
    "                        'Percent_noHighSchool_Diploma':social_vulnerability_no_hs_diploma\n",
    "                       })\n",
    "social_df.head(2)"
   ]
  },
  {
   "cell_type": "code",
   "execution_count": 15,
   "id": "80018f80",
   "metadata": {},
   "outputs": [
    {
     "data": {
      "text/html": [
       "<div>\n",
       "<style scoped>\n",
       "    .dataframe tbody tr th:only-of-type {\n",
       "        vertical-align: middle;\n",
       "    }\n",
       "\n",
       "    .dataframe tbody tr th {\n",
       "        vertical-align: top;\n",
       "    }\n",
       "\n",
       "    .dataframe thead th {\n",
       "        text-align: right;\n",
       "    }\n",
       "</style>\n",
       "<table border=\"1\" class=\"dataframe\">\n",
       "  <thead>\n",
       "    <tr style=\"text-align: right;\">\n",
       "      <th></th>\n",
       "      <th>coordinates</th>\n",
       "      <th>Social_Vulnerability_Score</th>\n",
       "      <th>MeanHouseholdIncome</th>\n",
       "      <th>COUNTY_NAME</th>\n",
       "      <th>Proportion_Below_Poverty</th>\n",
       "      <th>PerCapitaIncome</th>\n",
       "      <th>Percent_noHighSchool_Diploma</th>\n",
       "    </tr>\n",
       "  </thead>\n",
       "  <tbody>\n",
       "    <tr>\n",
       "      <th>13</th>\n",
       "      <td>[[[-121.96538911962388, 37.53648795687973], [-...</td>\n",
       "      <td>0.6979</td>\n",
       "      <td>58245.0</td>\n",
       "      <td>Alameda</td>\n",
       "      <td>0.205536</td>\n",
       "      <td>35970.0</td>\n",
       "      <td>0.649319</td>\n",
       "    </tr>\n",
       "    <tr>\n",
       "      <th>95</th>\n",
       "      <td>[[[-121.94583411820871, 37.55399496013691], [-...</td>\n",
       "      <td>0.0271</td>\n",
       "      <td>238611.0</td>\n",
       "      <td>Alameda</td>\n",
       "      <td>0.006294</td>\n",
       "      <td>75568.0</td>\n",
       "      <td>0.195016</td>\n",
       "    </tr>\n",
       "  </tbody>\n",
       "</table>\n",
       "</div>"
      ],
      "text/plain": [
       "                                          coordinates  \\\n",
       "13  [[[-121.96538911962388, 37.53648795687973], [-...   \n",
       "95  [[[-121.94583411820871, 37.55399496013691], [-...   \n",
       "\n",
       "    Social_Vulnerability_Score  MeanHouseholdIncome COUNTY_NAME  \\\n",
       "13                      0.6979              58245.0     Alameda   \n",
       "95                      0.0271             238611.0     Alameda   \n",
       "\n",
       "    Proportion_Below_Poverty  PerCapitaIncome  Percent_noHighSchool_Diploma  \n",
       "13                  0.205536          35970.0                      0.649319  \n",
       "95                  0.006294          75568.0                      0.195016  "
      ]
     },
     "execution_count": 15,
     "metadata": {},
     "output_type": "execute_result"
    }
   ],
   "source": [
    "social_df = social_df[(social_df['COUNTY_NAME'] == 'Alameda')]\n",
    "social_df.head(2)"
   ]
  },
  {
   "cell_type": "code",
   "execution_count": 16,
   "id": "1e0ca787-832e-4776-b878-74e139f68c98",
   "metadata": {},
   "outputs": [],
   "source": [
    "engine=sqlalchemy.create_engine('sqlite:///data/db.sqlite')"
   ]
  },
  {
   "cell_type": "code",
   "execution_count": 17,
   "id": "98f3c11b-bc0a-4d56-b4b0-82e46b187098",
   "metadata": {},
   "outputs": [],
   "source": [
    "social_df['coordinates']=social_df['coordinates'].astype('str')"
   ]
  },
  {
   "cell_type": "code",
   "execution_count": 18,
   "id": "1093ccab-bd79-4173-9a55-72f1fd071056",
   "metadata": {},
   "outputs": [],
   "source": [
    "social_df['Social_Vulnerability_Score']=social_df['Social_Vulnerability_Score'].astype('float')"
   ]
  },
  {
   "cell_type": "code",
   "execution_count": 19,
   "id": "d909a661-b587-494a-b0ab-f19017568f97",
   "metadata": {},
   "outputs": [],
   "source": [
    "social_df['MeanHouseholdIncome']=social_df['MeanHouseholdIncome'].astype('float')"
   ]
  },
  {
   "cell_type": "code",
   "execution_count": 20,
   "id": "19fa9e9b-7aca-4b95-bb2e-137c33f39890",
   "metadata": {},
   "outputs": [],
   "source": [
    "social_df['COUNTY_NAME']=social_df['COUNTY_NAME'].astype('str')"
   ]
  },
  {
   "cell_type": "code",
   "execution_count": 21,
   "id": "14a9614b-8a13-40c5-9ed7-6108af7010ef",
   "metadata": {},
   "outputs": [],
   "source": [
    "social_df['Proportion_Below_Poverty']=social_df['Proportion_Below_Poverty'].astype('float')"
   ]
  },
  {
   "cell_type": "code",
   "execution_count": 22,
   "id": "a04f1ed1-c0ce-45cc-9182-aad8240b69dd",
   "metadata": {},
   "outputs": [],
   "source": [
    "social_df['PerCapitaIncome']=social_df['PerCapitaIncome'].astype('float')"
   ]
  },
  {
   "cell_type": "code",
   "execution_count": 23,
   "id": "b4e2b2e3-e6bf-43ce-b4dd-13ccd10fdb8c",
   "metadata": {},
   "outputs": [],
   "source": [
    "social_df['Percent_noHighSchool_Diploma']=social_df['Percent_noHighSchool_Diploma'].astype('float')"
   ]
  },
  {
   "cell_type": "code",
   "execution_count": 24,
   "id": "202fb705-cb60-4931-a9d2-44cf37883add",
   "metadata": {},
   "outputs": [
    {
     "data": {
      "text/plain": [
       "1047"
      ]
     },
     "execution_count": 24,
     "metadata": {},
     "output_type": "execute_result"
    }
   ],
   "source": [
    "social_df.to_sql('data', if_exists='replace', index=False, con=engine)"
   ]
  },
  {
   "cell_type": "code",
   "execution_count": null,
   "id": "67ac2d6f-ab7b-49ed-b2da-1c2647c119b3",
   "metadata": {},
   "outputs": [],
   "source": []
  }
 ],
 "metadata": {
  "kernelspec": {
   "display_name": "Python 3 (ipykernel)",
   "language": "python",
   "name": "python3"
  },
  "language_info": {
   "codemirror_mode": {
    "name": "ipython",
    "version": 3
   },
   "file_extension": ".py",
   "mimetype": "text/x-python",
   "name": "python",
   "nbconvert_exporter": "python",
   "pygments_lexer": "ipython3",
   "version": "3.9.13"
  }
 },
 "nbformat": 4,
 "nbformat_minor": 5
}
