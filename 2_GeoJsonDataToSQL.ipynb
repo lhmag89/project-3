{
 "cells": [
  {
   "cell_type": "code",
   "execution_count": 1,
   "id": "ff1bda9c-5c30-410f-8745-f01ccf870ac9",
   "metadata": {},
   "outputs": [],
   "source": [
    "import sqlalchemy as sql\n",
    "from sqlalchemy import create_engine"
   ]
  },
  {
   "cell_type": "code",
   "execution_count": 2,
   "id": "6f9084fc-c9a0-4c42-9fc2-6a9c6e9489be",
   "metadata": {},
   "outputs": [],
   "source": [
    "engine=sql.create_engine('sqlite:///data/db.sqlite')"
   ]
  },
  {
   "cell_type": "code",
   "execution_count": 5,
   "id": "a904cc57-9a2a-4449-8b14-2f2f991e1fe1",
   "metadata": {},
   "outputs": [],
   "source": [
    "social_df = []\n",
    "for each_result in results: \n",
    "    shape=eval(each_result[0])\n",
    "    social_df.append(shape)"
   ]
  },
  {
   "cell_type": "code",
   "execution_count": null,
   "id": "29572e47-3b4b-4a28-9ebf-20b2da5575fc",
   "metadata": {},
   "outputs": [],
   "source": []
  }
 ],
 "metadata": {
  "kernelspec": {
   "display_name": "Python 3 (ipykernel)",
   "language": "python",
   "name": "python3"
  },
  "language_info": {
   "codemirror_mode": {
    "name": "ipython",
    "version": 3
   },
   "file_extension": ".py",
   "mimetype": "text/x-python",
   "name": "python",
   "nbconvert_exporter": "python",
   "pygments_lexer": "ipython3",
   "version": "3.9.13"
  }
 },
 "nbformat": 4,
 "nbformat_minor": 5
}
